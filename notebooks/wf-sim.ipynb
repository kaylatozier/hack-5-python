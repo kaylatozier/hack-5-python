{
 "cells": [
  {
   "cell_type": "code",
   "execution_count": 15,
   "id": "892d6561-b7df-477a-854a-2860dd34b097",
   "metadata": {},
   "outputs": [],
   "source": [
    "import random"
   ]
  },
  {
   "cell_type": "code",
   "execution_count": 16,
   "id": "0138ac31-d5a1-4c0d-ac77-19ec26b14fe1",
   "metadata": {},
   "outputs": [
    {
     "name": "stdout",
     "output_type": "stream",
     "text": [
      "[1, 1, 1, 1, 1, 0, 0, 0, 0, 0]\n"
     ]
    }
   ],
   "source": [
    "def init(N,f):\n",
    "    \"\"\"returns a list of 0s and 1s with the amount of 1s at frequency f in a list of N length\n",
    "    N: integer\n",
    "    f: float (decimal)\n",
    "    \"\"\"\n",
    "    ones = round(N*f)\n",
    "    pop = [1] * ones + [0] * (N - ones)\n",
    "    return pop\n",
    "wfpop = init(N=10,f=0.5)\n",
    "print(wfpop)"
   ]
  },
  {
   "cell_type": "code",
   "execution_count": 17,
   "id": "438032e8-7024-4b9f-8a34-8393eb39b046",
   "metadata": {},
   "outputs": [
    {
     "data": {
      "text/plain": [
       "[0, 0, 1, 0, 0, 1, 1, 0, 0, 0]"
      ]
     },
     "execution_count": 17,
     "metadata": {},
     "output_type": "execute_result"
    }
   ],
   "source": [
    "import random\n",
    "def step(pop):\n",
    "    \"For the length of the population (which is ultimated decided by N in the original init program), newpop is a new variation of these numbers randomly.\"\n",
    "    newpop = random.choices(pop, k=len(pop))\n",
    "    return newpop\n",
    "\"Now you can use the step() function to input any string of numbers, like wfpop, and it will randomly create a new one at the length of the input list.\"\n",
    "step(wfpop)"
   ]
  },
  {
   "cell_type": "code",
   "execution_count": 18,
   "id": "aebb2edc-a6ab-4fd1-ae8d-275e34ef7c5a",
   "metadata": {},
   "outputs": [
    {
     "name": "stdout",
     "output_type": "stream",
     "text": [
      "generations: 10; freq(a): 0.2300\n"
     ]
    }
   ],
   "source": [
    "def wf(N, f, ngens):\n",
    "    import random\n",
    "    \"Initalize the population as the original WF from the init function\"\n",
    "    pop = init(N,f)\n",
    "    \"For the range set by ngens, run the initial population through the step function to create a new random generation, over and over where the new initial population becomes the generation above it\"\n",
    "    for i in range(ngens):\n",
    "        pop = step(pop)\n",
    "        \"calculate the frequency by summing the populations created and dividng by the N\"\n",
    "    frequency = sum(pop) / N\n",
    "    print(f\"generations: {ngens}; freq(a): {frequency:.4f}\")\n",
    "#print 100 numbers with frequency .2 and 10 generations to run\n",
    "wf(N=100, f=0.2, ngens=10)"
   ]
  },
  {
   "cell_type": "code",
   "execution_count": 19,
   "id": "f7c17384-edd5-4b75-a80f-66aed2e804e5",
   "metadata": {},
   "outputs": [],
   "source": [
    "class Population:\n",
    "    pass\n",
    "p = Population()"
   ]
  },
  {
   "cell_type": "code",
   "execution_count": 20,
   "id": "a0d29aa4-378c-4a5f-8d0a-ecc4fcd438b2",
   "metadata": {},
   "outputs": [],
   "source": [
    "class Population:\n",
    "    def __init__(self, N=10, f=0.2):\n",
    "        self.N = N\n",
    "        self.f = f\n",
    "\n",
    "        derived_count = round(N*f)\n",
    "        self.pop = [0] * (N - derived_count) + [1] * derived_count\n",
    "\n",
    "    def __repr__(self):\n",
    "        return f\"Population(N={self.N}, f={self.f})\"\n",
    "\n",
    "    def step(self, ngens=1):\n",
    "        for i in range(ngens):\n",
    "            self.pop = random.choices(self.pop, k=self.N)"
   ]
  },
  {
   "cell_type": "code",
   "execution_count": 21,
   "id": "3a22c99b-c1f9-4df1-bdd4-ba84b7c4a9e2",
   "metadata": {},
   "outputs": [
    {
     "data": {
      "text/plain": [
       "[1, 1, 1, 1, 1, 1, 1, 1, 1, 1]"
      ]
     },
     "execution_count": 21,
     "metadata": {},
     "output_type": "execute_result"
    }
   ],
   "source": [
    "#we can access all the code that we had previously called using many different functions in a very simple way\n",
    "p = Population()\n",
    "p.step(ngens=10)\n",
    "p.pop"
   ]
  },
  {
   "cell_type": "code",
   "execution_count": 23,
   "id": "826b873a-47c2-4444-9049-112bb61ede79",
   "metadata": {},
   "outputs": [
    {
     "name": "stdout",
     "output_type": "stream",
     "text": [
      "On branch main\n",
      "Your branch is up to date with 'origin/main'.\n",
      "\n",
      "Changes not staged for commit:\n",
      "  (use \"git add <file>...\" to update what will be committed)\n",
      "  (use \"git restore <file>...\" to discard changes in working directory)\n",
      "\t\u001b[31mmodified:   nb-5.0-arithmetic.ipynb\u001b[m\n",
      "\t\u001b[31mmodified:   nb-5.1-strings.ipynb\u001b[m\n",
      "\t\u001b[31mmodified:   nb-5.2-lists.ipynb\u001b[m\n",
      "\t\u001b[31mmodified:   nb-5.3-seesion5-challenges.ipynb\u001b[m\n",
      "\n",
      "Untracked files:\n",
      "  (use \"git add <file>...\" to include in what will be committed)\n",
      "\t\u001b[31m../.ipynb_checkpoints/\u001b[m\n",
      "\t\u001b[31m../iris-data.csv\u001b[m\n",
      "\t\u001b[31m.ipynb_checkpoints/\u001b[m\n",
      "\n",
      "no changes added to commit (use \"git add\" and/or \"git commit -a\")\n",
      "Everything up-to-date\n"
     ]
    }
   ],
   "source": [
    "!git add wf-sim.ipynb\n",
    "!git commit -m \"implementing the wright-fisher model as a class\"\n",
    "!git push origin main"
   ]
  },
  {
   "cell_type": "code",
   "execution_count": null,
   "id": "6e650988-255b-40e9-bd07-c92af7fbadb6",
   "metadata": {},
   "outputs": [],
   "source": []
  },
  {
   "cell_type": "code",
   "execution_count": null,
   "id": "2691c40f-b249-4026-a9af-e5c5724e2923",
   "metadata": {},
   "outputs": [],
   "source": []
  }
 ],
 "metadata": {
  "kernelspec": {
   "display_name": "Python 3 (ipykernel)",
   "language": "python",
   "name": "python3"
  },
  "language_info": {
   "codemirror_mode": {
    "name": "ipython",
    "version": 3
   },
   "file_extension": ".py",
   "mimetype": "text/x-python",
   "name": "python",
   "nbconvert_exporter": "python",
   "pygments_lexer": "ipython3",
   "version": "3.12.2"
  }
 },
 "nbformat": 4,
 "nbformat_minor": 5
}
