{
 "cells": [
  {
   "cell_type": "code",
   "execution_count": 10,
   "id": "c2b836ba-f833-41a5-a22a-dee628422571",
   "metadata": {},
   "outputs": [],
   "source": [
    "import requests\n",
    "import pandas as pd"
   ]
  },
  {
   "cell_type": "code",
   "execution_count": 16,
   "id": "f8776731-f529-4994-be6c-74f1d10f03c5",
   "metadata": {},
   "outputs": [],
   "source": [
    "url = \"https://eaton-lab.org/data/iris-data-dirty.csv\"\n",
    "\n",
    "column_names = [\"sepal_length\", \"sepal_width\", \"petal_length\", \"petal_width\", \"species\"]\n",
    "\n",
    "df = pd.read_csv(url, names=column_names)"
   ]
  },
  {
   "cell_type": "code",
   "execution_count": 17,
   "id": "813cdef1-2cb5-49e1-a61e-ef6d6f8c2d3a",
   "metadata": {},
   "outputs": [
    {
     "name": "stdout",
     "output_type": "stream",
     "text": [
      "   sepal_length  sepal_width  petal_length  petal_width      species\n",
      "0           5.1          3.5           1.4          0.2  Iris-setosa\n",
      "1           4.9          3.0           1.4          0.2  Iris-setosa\n",
      "2           4.7          3.2           1.3          0.2  Iris-setosa\n",
      "3           4.6          3.1           1.5          0.2  Iris-setosa\n",
      "4           5.0          3.6           1.4          0.2  Iris-setosa\n"
     ]
    }
   ],
   "source": [
    "print(df.head())"
   ]
  },
  {
   "cell_type": "code",
   "execution_count": 29,
   "id": "52365bed-1bae-4540-b537-caa161cf5faa",
   "metadata": {},
   "outputs": [],
   "source": [
    "df[\"species\"] = df[\"species\"].replace({\n",
    "    \"Iris-setsa\": \"Iris-setosa\",\n",
    "    \"Iris-versicolour\": \"Iris-versicolor\"})\n"
   ]
  },
  {
   "cell_type": "code",
   "execution_count": 30,
   "id": "c982eaf7-b3fa-4ae4-8874-b6b0910ac108",
   "metadata": {},
   "outputs": [],
   "source": [
    "df = df.dropna()"
   ]
  },
  {
   "cell_type": "code",
   "execution_count": 31,
   "id": "04863bfc-866b-4e4a-ab76-4d16eeeadca6",
   "metadata": {},
   "outputs": [],
   "source": [
    "df[column_names[:-1]] = df[column_names[:-1]].astype(float)"
   ]
  },
  {
   "cell_type": "code",
   "execution_count": 32,
   "id": "867e4b6e-7a54-4bd5-8409-799b699cd685",
   "metadata": {},
   "outputs": [
    {
     "name": "stdout",
     "output_type": "stream",
     "text": [
      "       sepal_length  sepal_width  petal_length  petal_width\n",
      "count    148.000000   148.000000    148.000000   148.000000\n",
      "mean       5.841892     3.058108      3.748649     1.195946\n",
      "std        0.832586     0.434094      1.773635     0.767882\n",
      "min        4.300000     2.000000      1.000000     0.100000\n",
      "25%        5.100000     2.800000      1.575000     0.300000\n",
      "50%        5.800000     3.000000      4.350000     1.300000\n",
      "75%        6.400000     3.300000      5.100000     1.800000\n",
      "max        7.900000     4.400000      6.900000     2.500000\n"
     ]
    }
   ],
   "source": [
    "print(df.describe())"
   ]
  },
  {
   "cell_type": "code",
   "execution_count": 33,
   "id": "4d63be70-523c-4e0e-935d-e2685f0a5fed",
   "metadata": {},
   "outputs": [
    {
     "name": "stdout",
     "output_type": "stream",
     "text": [
      "\n",
      "Summary Statistics by Species:\n",
      "\n",
      "Species: Iris-setosa\n",
      "       sepal_length  sepal_width  petal_length  petal_width\n",
      "count      50.00000    50.000000     50.000000     50.00000\n",
      "mean        5.00600     3.418000      1.464000      0.24400\n",
      "std         0.35249     0.381024      0.173511      0.10721\n",
      "min         4.30000     2.300000      1.000000      0.10000\n",
      "25%         4.80000     3.125000      1.400000      0.20000\n",
      "50%         5.00000     3.400000      1.500000      0.20000\n",
      "75%         5.20000     3.675000      1.575000      0.30000\n",
      "max         5.80000     4.400000      1.900000      0.60000\n",
      "\n",
      "Species: Iris-versicolor\n",
      "       sepal_length  sepal_width  petal_length  petal_width\n",
      "count     48.000000    48.000000     48.000000    48.000000\n",
      "mean       5.935417     2.770833      4.250000     1.322917\n",
      "std        0.522062     0.316200      0.469948     0.200255\n",
      "min        4.900000     2.000000      3.000000     1.000000\n",
      "25%        5.600000     2.575000      4.000000     1.200000\n",
      "50%        5.900000     2.800000      4.350000     1.300000\n",
      "75%        6.300000     3.000000      4.600000     1.500000\n",
      "max        7.000000     3.400000      5.100000     1.800000\n",
      "\n",
      "Species: Iris-virginica\n",
      "       sepal_length  sepal_width  petal_length  petal_width\n",
      "count      50.00000    50.000000     50.000000     50.00000\n",
      "mean        6.58800     2.974000      5.552000      2.02600\n",
      "std         0.63588     0.322497      0.551895      0.27465\n",
      "min         4.90000     2.200000      4.500000      1.40000\n",
      "25%         6.22500     2.800000      5.100000      1.80000\n",
      "50%         6.50000     3.000000      5.550000      2.00000\n",
      "75%         6.90000     3.175000      5.875000      2.30000\n",
      "max         7.90000     3.800000      6.900000      2.50000\n"
     ]
    }
   ],
   "source": [
    "print(\"\\nSummary Statistics by Species:\")\n",
    "for species, group in df.groupby(\"species\"):\n",
    "    print(f\"\\nSpecies: {species}\")\n",
    "    print(group.describe())"
   ]
  },
  {
   "cell_type": "markdown",
   "id": "1341417f-5df1-415d-8573-a3d86e8c2ed2",
   "metadata": {},
   "source": [
    "##### An informal inspection of these summary statistics reveals clear distinctions among the three Iris species, particularly in petal length and width. Iris-setosa stands out with significantly smaller petals and the least variation, making it the most distinguishable species. Iris-virginica, on the other hand, has the largest measurements across all attributes and shows the greatest variation, especially in petal length and width, suggesting a more diverse morphology. Iris-versicolor falls between the two in all metrics. While sepal lengths overlap among species, petal length and width provide a stronger basis for classification. Additionally, the lower standard deviation of Iris-setosa suggests a more consistent flower shape, while Iris-virginica exhibits greater variability. "
   ]
  },
  {
   "cell_type": "code",
   "execution_count": null,
   "id": "fe64c7fb-d055-4816-9355-a5b65dd92e89",
   "metadata": {},
   "outputs": [],
   "source": []
  }
 ],
 "metadata": {
  "kernelspec": {
   "display_name": "Python 3 (ipykernel)",
   "language": "python",
   "name": "python3"
  },
  "language_info": {
   "codemirror_mode": {
    "name": "ipython",
    "version": 3
   },
   "file_extension": ".py",
   "mimetype": "text/x-python",
   "name": "python",
   "nbconvert_exporter": "python",
   "pygments_lexer": "ipython3",
   "version": "3.12.2"
  }
 },
 "nbformat": 4,
 "nbformat_minor": 5
}
