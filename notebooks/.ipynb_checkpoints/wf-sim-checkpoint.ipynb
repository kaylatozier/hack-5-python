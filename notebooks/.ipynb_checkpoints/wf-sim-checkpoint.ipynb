{
 "cells": [
  {
   "cell_type": "code",
   "execution_count": 15,
   "id": "892d6561-b7df-477a-854a-2860dd34b097",
   "metadata": {},
   "outputs": [],
   "source": [
    "import random\n",
    "import numpy as np \n",
    "import pandas as pd\n",
    "import requests"
   ]
  },
  {
   "cell_type": "code",
   "execution_count": 16,
   "id": "cf1e468c-39e3-46e4-82fd-4079f1c25641",
   "metadata": {},
   "outputs": [],
   "source": [
    "def init(N,f):\n",
    "    \"\"\"returns a list of 0s and 1s with the amount of 1s at frequency f in a list of N length\n",
    "    N: integer\n",
    "    f: float (decimal)\n",
    "    \"\"\"\n",
    "    ones = round(N*f)\n",
    "    pop = [1] * ones + [0] * (N - ones)\n",
    "    return pop"
   ]
  },
  {
   "cell_type": "code",
   "execution_count": 20,
   "id": "438032e8-7024-4b9f-8a34-8393eb39b046",
   "metadata": {},
   "outputs": [
    {
     "name": "stdout",
     "output_type": "stream",
     "text": [
      "[0, 1, 0, 0, 0, 1, 1, 0, 0, 0]\n"
     ]
    }
   ],
   "source": [
    "def step(pop):\n",
    "    \"For the length of the population (which is ultimated decided by N in the original init program), newpop is a new variation of these numbers randomly.\"\n",
    "    pop = random.choices(pop, k=len(pop))\n",
    "    return pop\n",
    "    \"Now you can use the step() function to input any string of numbers, like pop (as long as its defined with N and f values using the init function), and it will randomly create a new one at the length of the input list.\""
   ]
  },
  {
   "cell_type": "code",
   "execution_count": 41,
   "id": "e4c94981-c86c-42dc-b9fc-a87e36f62911",
   "metadata": {},
   "outputs": [
    {
     "name": "stdout",
     "output_type": "stream",
     "text": [
      "Generations: 10; freq(a):0.9\n"
     ]
    }
   ],
   "source": [
    "def wf(N, f, ngens): #runs this simulation of random genetic drift for a number of generations until extinction or fixation!\n",
    "    pop = init(N=N, f=f)\n",
    "    count = 0\n",
    "    for i in range(ngens):\n",
    "        pop = step(pop)\n",
    "        total_alleles = sum(pop)\n",
    "        if total_alleles == 0: #if there are no \"1s\" in the population (aka, no allele-carrying individuals)\n",
    "            print(\"extinction\")\n",
    "            break\n",
    "        elif total_alleles == len(pop): #if all \"1s\" in the population (aka, all allele-carrying individuals)\n",
    "            print(\"fixed\")\n",
    "            break\n",
    "        else:\n",
    "            count += 1\n",
    "    print(f\"Generations: {count}; freq(a):{total_alleles/N}\") \n",
    "    #This line uses as f-string (formatted for python) to print the count as the number of \n",
    "    #generations before the population went extinct or fixed, and the total_alleles/N calculates the frequency of the allele in this population \n",
    "    #(fraction of individuals in the population carrying this allele)\n",
    "\n",
    "wf(N=10, f=0.3, ngens=10)"
   ]
  },
  {
   "cell_type": "code",
   "execution_count": 49,
   "id": "a0d29aa4-378c-4a5f-8d0a-ecc4fcd438b2",
   "metadata": {},
   "outputs": [],
   "source": [
    "class Population: #defining a population class instead of a bunch of functions for better efficiency and organization\n",
    "    def __init__(self, N=10, f=0.2, with_np = False): #initializing the population with N and f\n",
    "        self.N = N\n",
    "        self.f = f\n",
    "        self.with_np = with_np #allows you to switch between numpy arrays and python lists\n",
    "\n",
    "        alleles = round(N*f) #total number of alleles in the initial population (N*f)\n",
    "        self.pop = [0] * (N - alleles) + [1] * alleles #creating a self.pop list with the number of 1s determined by frquenecy f, just like in our original function\n",
    "\n",
    "        if with_np:\n",
    "            self.pop = np.array(self.pop) # converts to a NumPy array if with_np=True\n",
    "            \n",
    "    def __repr__(self): #function that returns the self object (population) as a string with Population(N=#, f=#) for formatting purposes\n",
    "        return f\"Population(N={self.N}, f={self.f})\"\n",
    "\n",
    "    def step(self, ngens=1): #now simulating one or more generations with the initialized population, just like we did in the original code but using self.pop instead and using self.N\n",
    "        for i in range(ngens):\n",
    "            if self.with_np:\n",
    "                self.pop = np.random.choice(self.pop, size=self.N) #numpy array version of random sampling\n",
    "            else:\n",
    "                self.pop = random.choices(self.pop, k=self.N) #python list version"
   ]
  },
  {
   "cell_type": "code",
   "execution_count": 62,
   "id": "3a22c99b-c1f9-4df1-bdd4-ba84b7c4a9e2",
   "metadata": {},
   "outputs": [
    {
     "data": {
      "text/plain": [
       "[0, 0, 0, 0, 0, 0, 0, 0, 0, 0]"
      ]
     },
     "execution_count": 62,
     "metadata": {},
     "output_type": "execute_result"
    }
   ],
   "source": [
    "#we can access all the code that we had previously called using many different functions in a very simple way\n",
    "p = Population() #defines a new object p with the Population class using the default values of N=10 and f=0.2, this only uses the init() function\n",
    "p.step(ngens=10) #runs the step() function in Population class with 10 generations \n",
    "p.pop #prints out the resulting population"
   ]
  },
  {
   "cell_type": "code",
   "execution_count": 63,
   "id": "6e650988-255b-40e9-bd07-c92af7fbadb6",
   "metadata": {},
   "outputs": [],
   "source": [
    "pop = Population(N=100, f=0.5, with_np=False)  #standard python list\n",
    "pop_np = Population(N=100, f=0.5, with_np=True) #numpy array"
   ]
  },
  {
   "cell_type": "code",
   "execution_count": 64,
   "id": "2691c40f-b249-4026-a9af-e5c5724e2923",
   "metadata": {},
   "outputs": [
    {
     "name": "stdout",
     "output_type": "stream",
     "text": [
      "11.4 ms ± 49.8 μs per loop (mean ± std. dev. of 7 runs, 100 loops each)\n"
     ]
    }
   ],
   "source": [
    "%%timeit #how much time it takes to run with a standard python list\n",
    "pop.step(ngens=1000)"
   ]
  },
  {
   "cell_type": "code",
   "execution_count": 65,
   "id": "2b7e1a00-9c78-4027-b76b-81587d2bcc7b",
   "metadata": {},
   "outputs": [
    {
     "name": "stdout",
     "output_type": "stream",
     "text": [
      "15 ms ± 149 μs per loop (mean ± std. dev. of 7 runs, 100 loops each)\n"
     ]
    }
   ],
   "source": [
    "%%timeit #how much time it takes to run with a numpy array\n",
    "pop_np.step(ngens=1000)"
   ]
  },
  {
   "cell_type": "code",
   "execution_count": null,
   "id": "bbf2a772-cf55-41e2-bba1-172106cc7bf3",
   "metadata": {},
   "outputs": [],
   "source": []
  },
  {
   "cell_type": "code",
   "execution_count": 63,
   "id": "20097fbf-c78d-4636-b0e0-7b7754b8b7f5",
   "metadata": {},
   "outputs": [],
   "source": [
    "pop = Population(N=100, f=0.5, with_np=False)  #standard python list\n",
    "pop_np = Population(N=100, f=0.5, with_np=True) #numpy array"
   ]
  },
  {
   "cell_type": "code",
   "execution_count": 67,
   "id": "bf521d8c-c30b-4ee6-a8e5-33508b31a2cf",
   "metadata": {},
   "outputs": [
    {
     "name": "stdout",
     "output_type": "stream",
     "text": [
      "[main ee8ec3f] Updated WF fisher model using numpy arrays and classes\n",
      " 1 file changed, 38 insertions(+)\n",
      "Enumerating objects: 7, done.\n",
      "Counting objects: 100% (7/7), done.\n",
      "Delta compression using up to 8 threads\n",
      "Compressing objects: 100% (4/4), done.\n",
      "Writing objects: 100% (4/4), 916 bytes | 916.00 KiB/s, done.\n",
      "Total 4 (delta 2), reused 0 (delta 0), pack-reused 0\n",
      "remote: Resolving deltas: 100% (2/2), completed with 2 local objects.\u001b[K\n",
      "To https://github.com/kaylatozier/hack-5-python.git\n",
      "   fc521ff..ee8ec3f  main -> main\n"
     ]
    }
   ],
   "source": [
    "!git add wf-sim.ipynb\n",
    "!git commit -m \"Updated WF fisher model using numpy arrays and classes\"\n",
    "!git push origin main"
   ]
  }
 ],
 "metadata": {
  "kernelspec": {
   "display_name": "Python 3 (ipykernel)",
   "language": "python",
   "name": "python3"
  },
  "language_info": {
   "codemirror_mode": {
    "name": "ipython",
    "version": 3
   },
   "file_extension": ".py",
   "mimetype": "text/x-python",
   "name": "python",
   "nbconvert_exporter": "python",
   "pygments_lexer": "ipython3",
   "version": "3.12.2"
  }
 },
 "nbformat": 4,
 "nbformat_minor": 5
}
