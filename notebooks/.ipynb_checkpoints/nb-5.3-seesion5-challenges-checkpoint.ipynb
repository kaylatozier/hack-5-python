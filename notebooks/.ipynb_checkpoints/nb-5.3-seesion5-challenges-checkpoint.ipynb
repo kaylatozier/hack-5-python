{
 "cells": [
  {
   "cell_type": "markdown",
   "metadata": {},
   "source": [
    "# Notebook 5.3: Session 5 challenges\n",
    "\n",
    "Here are more challenges to test your knowledge of variables, lists, and for loops."
   ]
  },
  {
   "cell_type": "markdown",
   "metadata": {},
   "source": [
    "### Challenges"
   ]
  },
  {
   "cell_type": "markdown",
   "metadata": {},
   "source": [
    "A. Create code that includes a loop which iterates over the a list of integers and prints the sum. Use\n",
    "this list as a test case [1, 5, 2, 6] and print the results in this form:\n",
    "```\n",
    "The sum of the numbers in the list is 14\n",
    "```\n",
    "\n",
    "Hint: Use the += operator, and a variable which is instantiated outside the loop, but modified inside it."
   ]
  },
  {
   "cell_type": "code",
   "execution_count": 1,
   "metadata": {},
   "outputs": [
    {
     "name": "stdout",
     "output_type": "stream",
     "text": [
      "The sum of the numbers in the list is 14\n"
     ]
    }
   ],
   "source": [
    "my_list = [1,5,2,6]\n",
    "\n",
    "sum = 0\n",
    "for x in my_list:\n",
    "    sum += x\n",
    "\n",
    "print(\"The sum of the numbers in the list is\", sum)"
   ]
  },
  {
   "cell_type": "markdown",
   "metadata": {},
   "source": [
    "B. Write python code to print the following DNA sequence pattern using a loop.\n",
    "```\n",
    "CATG\n",
    "CATGCATG\n",
    "CATGCATGCATG\n",
    "CATGCATGCATGCATG\n",
    "CATGCATGCATGCATGCATG\n",
    "```"
   ]
  },
  {
   "cell_type": "code",
   "execution_count": 3,
   "metadata": {},
   "outputs": [
    {
     "name": "stdout",
     "output_type": "stream",
     "text": [
      "\n",
      "CATG\n",
      "CATGCATG\n",
      "CATGCATGCATG\n",
      "CATGCATGCATGCATG\n",
      "CATGCATGCATGCATGCATG\n"
     ]
    }
   ],
   "source": [
    "sequence = 'CATG'\n",
    "for x in range(6):\n",
    "    print(sequence * x)"
   ]
  },
  {
   "cell_type": "markdown",
   "metadata": {},
   "source": [
    "C. Create code with a nested loop based on the list of lists [[\"apple\", \"orange\"], [\"carrot\", \"cabbage\"], [\"chicken\", \"beef\"]] and produces the following output:\n",
    "```\n",
    "apple\n",
    "orange\n",
    "carrot\n",
    "cabbage\n",
    "chicken\n",
    "beef\n",
    "```"
   ]
  },
  {
   "cell_type": "code",
   "execution_count": 5,
   "metadata": {},
   "outputs": [
    {
     "name": "stdout",
     "output_type": "stream",
     "text": [
      "apple\n",
      "orange\n",
      "carrot\n",
      "cabbage\n",
      "chicken\n",
      "beef\n"
     ]
    }
   ],
   "source": [
    "listoflists = [[\"apple\", \"orange\"], [\"carrot\", \"cabbage\"], [\"chicken\", \"beef\"]]\n",
    "for list in listoflists:\n",
    "    for word in list:\n",
    "        print(word)"
   ]
  },
  {
   "cell_type": "markdown",
   "metadata": {},
   "source": [
    "D. Using the same input list of lists as above modify create new code so it prints the following output:\n",
    "```\n",
    "apple\n",
    "carrot\n",
    "chicken\n",
    "orange\n",
    "cabbage\n",
    "beef\n",
    "```"
   ]
  },
  {
   "cell_type": "code",
   "execution_count": 12,
   "metadata": {},
   "outputs": [
    {
     "name": "stdout",
     "output_type": "stream",
     "text": [
      "apple\n",
      "carrot\n",
      "chicken\n",
      "orange\n",
      "cabbage\n",
      "beef\n"
     ]
    }
   ],
   "source": [
    "for x in range(len(listoflists[0])):\n",
    "    for list in listoflists:\n",
    "        print(list[x])"
   ]
  },
  {
   "cell_type": "markdown",
   "metadata": {},
   "source": [
    "E. Write a for loop to print the first 20 even numbers starting at 0 (hint: use range())."
   ]
  },
  {
   "cell_type": "code",
   "execution_count": 20,
   "metadata": {},
   "outputs": [
    {
     "name": "stdout",
     "output_type": "stream",
     "text": [
      "0\n",
      "2\n",
      "4\n",
      "6\n",
      "8\n",
      "10\n",
      "12\n",
      "14\n",
      "16\n",
      "18\n",
      "20\n",
      "22\n",
      "24\n",
      "26\n",
      "28\n",
      "30\n",
      "32\n",
      "34\n",
      "36\n",
      "38\n"
     ]
    }
   ],
   "source": [
    "count = 0\n",
    "num = 0\n",
    "\n",
    "for count in range(20):\n",
    "    print(num)\n",
    "    num += 2"
   ]
  },
  {
   "cell_type": "markdown",
   "metadata": {},
   "source": [
    "F. Write a for loop to print the first 20 odd numbers starting at 101, but print them in descending order."
   ]
  },
  {
   "cell_type": "code",
   "execution_count": 26,
   "metadata": {},
   "outputs": [
    {
     "name": "stdout",
     "output_type": "stream",
     "text": [
      "[139, 137, 135, 133, 131, 129, 127, 125, 123, 121, 119, 117, 115, 113, 111, 109, 107, 105, 103, 101]\n"
     ]
    }
   ],
   "source": [
    "count = 0\n",
    "num = 101\n",
    "\n",
    "oddlist = []\n",
    "for count in range(20):\n",
    "    oddlist.append(num)\n",
    "    num += 2\n",
    "\n",
    "oddlist.reverse()\n",
    "print(oddlist)"
   ]
  },
  {
   "cell_type": "markdown",
   "metadata": {},
   "source": [
    "G. Using what you have learned in the previous exercises, write code to take a the following \n",
    "DNA sequence and print only the bases with even index. For example if the\n",
    "input sequence is \"GCACGG\" the output should be \"GAG\" (remembering that 0 is also even)."
   ]
  },
  {
   "cell_type": "code",
   "execution_count": 35,
   "metadata": {},
   "outputs": [],
   "source": [
    "seq = \"\"\"\n",
    ">Calumma_boettgeri_voucher_FGZC_462\n",
    "GGAAGTATTAACCAGACACAACTACGAAAACTAATGGCCTACTCATCAATTACTAACC\n",
    "TAGGGTGGACAATAATTATTTTCACAACCGCACCACACATTGCTACACTAAACATTAT\n",
    "TATCTACATAATTATACTCATCCCACTATTCATACTCATTAAAAAAATATCTATAAAA\n",
    "ACACTGCGAGACTCAACAACTACATGAACTACGTCCCCGATAGCAAACACCCTACTAA\n",
    "TGCTAATACTTCTGTCACTAAGTGGTCTTCCCCCCCTCACAGGTTTCACCCCAAAACT\n",
    "TTTAATTTTAAACGAACTAATTTTACAAAATTTAACACCCGCTGCAACAATAATAGCC\n",
    "ATACTATCTCTAATTGGACTATTTTTTTATATCCGAACAAC\n",
    "\"\"\""
   ]
  },
  {
   "cell_type": "code",
   "execution_count": 38,
   "metadata": {},
   "outputs": [
    {
     "name": "stdout",
     "output_type": "stream",
     "text": [
      "['G', 'A', 'G', 'A', 'T', 'A', 'C', 'G', 'C', 'C', 'A', 'T', 'C', 'A', 'A', 'C', 'A', 'T', 'G', 'C', 'A', 'T', 'A', 'C', 'A', 'T', 'C', 'A', 'C', 'T', 'G', 'G', 'G', 'A', 'A', 'T', 'A', 'T', 'T', 'T', 'C', 'C', 'A', 'C', 'C', 'C', 'A', 'A', 'A', 'T', 'C', 'A', 'A', 'T', 'A', 'C', 'T', 'A', 'T', 'T', 'T', 'C', 'T', 'A', 'T', 'T', 'C', 'C', 'T', 'C', 'A', 'T', 'T', 'C', 'T', 'C', 'C', 'T', 'A', 'A', 'A', 'A', 'A', 'C', 'A', 'A', 'A', 'A', 'A', 'T', 'C', 'A', 'A', 'T', 'A', 'C', 'A', 'T', 'C', 'T', 'A', 'C', 'A', 'G', 'C', 'C', 'G', 'T', 'G', 'A', 'A', 'A', 'C', 'T', 'C', 'A', 'T', 'C', 'A', 'T', 'C', 'T', 'T', 'T', 'A', 'T', 'A', 'T', 'G', 'C', 'T', 'C', 'C', 'C', 'T', 'A', 'A', 'G', 'T', 'C', 'C', 'C', 'A', 'A', 'C', 'T', 'T', 'A', 'T', 'T', 'A', 'C', 'A', 'C', 'A', 'T', 'T', 'A', 'A', 'A', 'T', 'T', 'A', 'A', 'C', 'G', 'T', 'C', 'A', 'A', 'T', 'A', 'A', 'C', 'A', 'A', 'T', 'T', 'T', 'T', 'A', 'T', 'G', 'C', 'A', 'T', 'T', 'T', 'A', 'A', 'C', 'G', 'A', 'A', 'C']\n"
     ]
    }
   ],
   "source": [
    "dnasequence = 'GGAAGTATTAACCAGACACAACTACGAAAACTAATGGCCTACTCATCAATTACTAACCTAGGGTGGACAATAATTATTTTCACAACCGCACCACACATTGCTACACTAAACATTATTATCTACATAATTATACTCATCCCACTATTCATACTCATTAAAAAAATATCTATAAAAACACTGCGAGACTCAACAACTACATGAACTACGTCCCCGATAGCAAACACCCTACTAATGCTAATACTTCTGTCACTAAGTGGTCTTCCCCCCCTCACAGGTTTCACCCCAAAACTTTTAATTTTAAACGAACTAATTTTACAAAATTTAACACCCGCTGCAACAATAATAGCCATACTATCTCTAATTGGACTATTTTTTTATATCCGAACAAC'\n",
    "evensequence = []\n",
    "for i in range(len(dnasequence)):\n",
    "   if i % 2 == 0:\n",
    "       evensequence.append(dnasequence[i])\n",
    "\n",
    "print(evensequence)\n",
    "\n",
    "\n",
    "\n",
    "\n",
    "\n"
   ]
  },
  {
   "cell_type": "code",
   "execution_count": null,
   "metadata": {},
   "outputs": [],
   "source": [
    "# Need help understanding how to turn this back into a sequence rather than a list of comma-separated letters."
   ]
  },
  {
   "cell_type": "code",
   "execution_count": 2,
   "metadata": {},
   "outputs": [
    {
     "name": "stdout",
     "output_type": "stream",
     "text": [
      "GAGATACGCCATCAACATGCATACATCACTGGGAATATTTCCACCCAAATCAATACTATTTCTATTCCTCATTCTCCTAAAAACAAAAATCAATACATCTACAGCCGTGAAACTCATCATCTTTATATGCTCCCTAAGTCCCAACTTATTACACATTAAATTAACGTCAATAACAATTTTATGCATTTAACGAAC"
     ]
    }
   ],
   "source": [
    "seq = \"\"\"\n",
    ">Calumma_boettgeri_voucher_FGZC_462\n",
    "GGAAGTATTAACCAGACACAACTACGAAAACTAATGGCCTACTCATCAATTACTAACC\n",
    "TAGGGTGGACAATAATTATTTTCACAACCGCACCACACATTGCTACACTAAACATTAT\n",
    "TATCTACATAATTATACTCATCCCACTATTCATACTCATTAAAAAAATATCTATAAAA\n",
    "ACACTGCGAGACTCAACAACTACATGAACTACGTCCCCGATAGCAAACACCCTACTAA\n",
    "TGCTAATACTTCTGTCACTAAGTGGTCTTCCCCCCCTCACAGGTTTCACCCCAAAACT\n",
    "TTTAATTTTAAACGAACTAATTTTACAAAATTTAACACCCGCTGCAACAATAATAGCC\n",
    "ATACTATCTCTAATTGGACTATTTTTTTATATCCGAACAAC\n",
    "\"\"\"\n",
    "\n",
    "for line in seq.split()[1:]: #default for split is a newline, so it will take the second line\n",
    "    for idx in range(0,len(line),2): #this will iderate through the lines of DNA even if they are separate and do it from the first letter through the length of each line, but does it in steps of two\n",
    "        print(line[idx], end=\"\") #by using the end=\"\" it will make it a paragraph format instead of a long list\n",
    "\n",
    "#Wouldn't the \"every two\" function have to assume that each line is an even number of letters for it to really answer the question because it will start at the first letter of each line?"
   ]
  },
  {
   "cell_type": "code",
   "execution_count": null,
   "metadata": {},
   "outputs": [],
   "source": []
  }
 ],
 "metadata": {
  "kernelspec": {
   "display_name": "Python 3 (ipykernel)",
   "language": "python",
   "name": "python3"
  },
  "language_info": {
   "codemirror_mode": {
    "name": "ipython",
    "version": 3
   },
   "file_extension": ".py",
   "mimetype": "text/x-python",
   "name": "python",
   "nbconvert_exporter": "python",
   "pygments_lexer": "ipython3",
   "version": "3.12.2"
  }
 },
 "nbformat": 4,
 "nbformat_minor": 4
}
